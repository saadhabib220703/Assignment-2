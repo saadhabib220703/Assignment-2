{
 "cells": [
  {
   "cell_type": "markdown",
   "id": "f84c70d2-3a5c-4660-868b-dc494f16a50c",
   "metadata": {},
   "source": [
    "## Question 1"
   ]
  },
  {
   "cell_type": "code",
   "execution_count": 6,
   "id": "9769f1ff-c3a8-4fdd-aea0-3e3679ab8398",
   "metadata": {},
   "outputs": [
    {
     "name": "stdin",
     "output_type": "stream",
     "text": [
      "Enter the age:  2\n"
     ]
    },
    {
     "name": "stdout",
     "output_type": "stream",
     "text": [
      "Age group: Child\n"
     ]
    }
   ],
   "source": [
    "def classify_age(age):\n",
    "    if 0 <= age <= 12:\n",
    "        return \"Child\"\n",
    "    elif 13 <= age <= 19:\n",
    "        return \"Teenager\"\n",
    "    elif 20 <= age <= 64:\n",
    "        return \"Adult\"\n",
    "    elif age >= 65:\n",
    "        return \"Senior\"\n",
    "    else:\n",
    "        return \"Invalid age\"\n",
    "\n",
    "# Input from the user\n",
    "try:\n",
    "    age = int(input(\"Enter the age: \"))\n",
    "    print(\"Age group:\", classify_age(age))\n",
    "except ValueError:\n",
    "    print(\"Please enter a valid integer for the age.\")"
   ]
  },
  {
   "cell_type": "markdown",
   "id": "22528dca-93f5-41ea-890b-8e18b281ef74",
   "metadata": {},
   "source": [
    "## Question 2"
   ]
  },
  {
   "cell_type": "code",
   "execution_count": 10,
   "id": "5014d8d2-8c2e-4e12-ace5-750701b5773f",
   "metadata": {},
   "outputs": [
    {
     "name": "stdin",
     "output_type": "stream",
     "text": [
      "Enter membership status (premium/regular):  premium\n",
      "Enter purchase amount:  1\n"
     ]
    },
    {
     "name": "stdout",
     "output_type": "stream",
     "text": [
      "Not eligible for discount\n"
     ]
    }
   ],
   "source": [
    "# Function to check eligibility for discount\n",
    "def check_discount_eligibility(membership_status, purchase_amount):\n",
    "    # Check if customer is a \"premium\" member and purchase amount is greater than or equal to 1000\n",
    "    if membership_status.lower() == \"premium\" and purchase_amount >= 1000:\n",
    "        return \"Eligible for discount\"\n",
    "    # Check if customer is a \"regular\" member and purchase amount is greater than or equal to 2000\n",
    "    elif membership_status.lower() == \"regular\" and purchase_amount >= 2000:\n",
    "        return \"Eligible for discount\"\n",
    "    # If neither condition is met\n",
    "    else:\n",
    "        return \"Not eligible for discount\"\n",
    "\n",
    "# Input from user\n",
    "membership_status = input(\"Enter membership status (premium/regular): \").strip()\n",
    "purchase_amount = float(input(\"Enter purchase amount: \").strip())\n",
    "\n",
    "# Call the function and print the result\n",
    "result = check_discount_eligibility(membership_status, purchase_amount)\n",
    "print(result)\n"
   ]
  },
  {
   "cell_type": "markdown",
   "id": "3d4b5cc2-1c22-4eb0-bea4-05750f536ed3",
   "metadata": {},
   "source": [
    "## Question 3"
   ]
  },
  {
   "cell_type": "code",
   "execution_count": 12,
   "id": "7f4b47e6-f511-4702-a4a6-47ba68a352d1",
   "metadata": {},
   "outputs": [
    {
     "name": "stdin",
     "output_type": "stream",
     "text": [
      "Enter your age:  15\n",
      "Enter your citizenship status (citizen/non-citizen):  citizen\n",
      "Are you from a special region where voting is allowed at 16? (yes/no):  yes\n"
     ]
    },
    {
     "name": "stdout",
     "output_type": "stream",
     "text": [
      "Not eligible to vote\n"
     ]
    }
   ],
   "source": [
    "# Function to check voting eligibility\n",
    "def check_voting_eligibility(age, citizenship_status, special_region=False):\n",
    "    if citizenship_status == \"citizen\":\n",
    "        if age >= 18 or (special_region and age >= 16):\n",
    "            print(\"Eligible to vote\")\n",
    "        else:\n",
    "            print(\"Not eligible to vote\")\n",
    "    else:\n",
    "        print(\"Not eligible to vote\")\n",
    "\n",
    "# Input: Age and citizenship status\n",
    "try:\n",
    "    age = int(input(\"Enter your age: \"))\n",
    "    citizenship_status = input(\"Enter your citizenship status (citizen/non-citizen): \").strip().lower()\n",
    "    special_region_input = input(\"Are you from a special region where voting is allowed at 16? (yes/no): \").strip().lower()\n",
    "    special_region = special_region_input == \"yes\"\n",
    "\n",
    "    # Check eligibility\n",
    "    check_voting_eligibility(age, citizenship_status, special_region)\n",
    "except ValueError:\n",
    "    print(\"Please enter a valid age.\")\n"
   ]
  },
  {
   "cell_type": "markdown",
   "id": "b3055c43-e8cf-4aca-9dee-fe8ea3013ec2",
   "metadata": {},
   "source": [
    "## Question 4"
   ]
  },
  {
   "cell_type": "code",
   "execution_count": 16,
   "id": "4a4226c0-bc4f-498c-a7f5-1aaccec277e2",
   "metadata": {},
   "outputs": [
    {
     "name": "stdin",
     "output_type": "stream",
     "text": [
      "Enter performance rating (Excellent/Good/Satisfactory):  satisfactory\n",
      "Enter years of service:  15\n"
     ]
    },
    {
     "name": "stdout",
     "output_type": "stream",
     "text": [
      "Eligible for bonus\n"
     ]
    }
   ],
   "source": [
    "# Function to check bonus eligibility\n",
    "def check_bonus_eligibility(performance_rating, years_of_service):\n",
    "    if (performance_rating == \"Excellent\" and years_of_service >= 5) or \\\n",
    "       (performance_rating == \"Good\" and years_of_service >= 10) or \\\n",
    "       (performance_rating == \"Satisfactory\" or years_of_service >= 15):\n",
    "        print(\"Eligible for bonus\")\n",
    "    else:\n",
    "        print(\"Not eligible for bonus\")\n",
    "\n",
    "# Input: Performance rating and years of service\n",
    "try:\n",
    "    performance_rating = input(\"Enter performance rating (Excellent/Good/Satisfactory): \").strip()\n",
    "    years_of_service = int(input(\"Enter years of service: \"))\n",
    "\n",
    "    # Check bonus eligibility\n",
    "    check_bonus_eligibility(performance_rating, years_of_service)\n",
    "except ValueError:\n",
    "    print(\"Please enter a valid number for years of service.\")\n"
   ]
  },
  {
   "cell_type": "markdown",
   "id": "f4f3336f-3b9b-4c58-b9fb-5bb766ead8c3",
   "metadata": {},
   "source": [
    "## Question 5"
   ]
  },
  {
   "cell_type": "code",
   "execution_count": 17,
   "id": "fa523935-ad18-42eb-a72e-2800e3674111",
   "metadata": {},
   "outputs": [
    {
     "name": "stdout",
     "output_type": "stream",
     "text": [
      "Modified text: I'm_learning_Python_programming\n",
      "Number of underscores: 3\n",
      "Position of the first underscore: 3\n"
     ]
    }
   ],
   "source": [
    "# Input text\n",
    "text = \"I'm learning Python programming\"\n",
    "\n",
    "# Replace spaces with underscores\n",
    "modified_text = text.replace(\" \", \"_\")\n",
    "\n",
    "# Count the number of underscores\n",
    "underscore_count = modified_text.count(\"_\")\n",
    "\n",
    "# Find the position of the first underscore (if any)\n",
    "first_underscore_position = modified_text.find(\"_\")  # Returns -1 if no underscores\n",
    "\n",
    "# Output the results\n",
    "print(\"Modified text:\", modified_text)\n",
    "print(\"Number of underscores:\", underscore_count)\n",
    "if first_underscore_position != -1:\n",
    "    print(\"Position of the first underscore:\", first_underscore_position)\n",
    "else:\n",
    "    print(\"No underscores found in the text.\")\n"
   ]
  },
  {
   "cell_type": "markdown",
   "id": "7d5eb86d-849f-4612-b18a-4edeb8390b7b",
   "metadata": {},
   "source": [
    "## Question 6"
   ]
  },
  {
   "cell_type": "code",
   "execution_count": 18,
   "id": "aea9eafa-f3c5-40be-983e-fe41d5dfa973",
   "metadata": {},
   "outputs": [
    {
     "name": "stdin",
     "output_type": "stream",
     "text": [
      "Enter a string:  I appreciate Jawan Pakistan's efforts in shaping our future\n"
     ]
    },
    {
     "name": "stdout",
     "output_type": "stream",
     "text": [
      "All characters except the last 3: I appreciate Jawan Pakistan's efforts in shaping our fut\n",
      "Every second character: Iapeit aa aitnsefrsi hpn u uue\n",
      "String in reverse: erutuf ruo gnipahs ni stroffe s'natsikaP nawaJ etaicerppa I\n"
     ]
    }
   ],
   "source": [
    "# Input: Take a string as input\n",
    "input_string = input(\"Enter a string: \")\n",
    "\n",
    "# Print all characters except the last 3\n",
    "print(\"All characters except the last 3:\", input_string[:-3])\n",
    "\n",
    "# Print every second character of the string\n",
    "print(\"Every second character:\", input_string[::2])\n",
    "\n",
    "# Print the string in reverse\n",
    "print(\"String in reverse:\", input_string[::-1])\n"
   ]
  },
  {
   "cell_type": "markdown",
   "id": "860733b1-3317-471d-98dd-4282cf77c145",
   "metadata": {},
   "source": [
    "## Question 7"
   ]
  },
  {
   "cell_type": "code",
   "execution_count": 19,
   "id": "48623712-b3f7-41a5-8480-867d1dcb6518",
   "metadata": {},
   "outputs": [
    {
     "name": "stdout",
     "output_type": "stream",
     "text": [
      "Original text: Hello World, We are learning Python\n",
      "Reversed text: Python learning are We World, Hello\n"
     ]
    }
   ],
   "source": [
    "# Input text\n",
    "text = \"Hello World, We are learning Python\"\n",
    "\n",
    "# Split the sentence into words\n",
    "words = text.split()\n",
    "\n",
    "# Reverse the order of the words\n",
    "reversed_words = \" \".join(reversed(words))\n",
    "\n",
    "# Output the result\n",
    "print(\"Original text:\", text)\n",
    "print(\"Reversed text:\", reversed_words)\n"
   ]
  },
  {
   "cell_type": "markdown",
   "id": "44446184-b331-4e16-a51e-53986e7b8943",
   "metadata": {},
   "source": [
    "## Question 8"
   ]
  },
  {
   "cell_type": "code",
   "execution_count": 20,
   "id": "c0b069d0-5ce0-4f7e-a097-ac571c64c812",
   "metadata": {},
   "outputs": [
    {
     "name": "stdout",
     "output_type": "stream",
     "text": [
      "Extracted number: 12345\n"
     ]
    }
   ],
   "source": [
    "# Input product code\n",
    "product_code = \"SKU-12345-XYZ\"\n",
    "\n",
    "# Remove \"SKU-\" and \"-XYZ\" and extract the number\n",
    "number = product_code.replace(\"SKU-\", \"\").replace(\"-XYZ\", \"\")\n",
    "\n",
    "# Output the result\n",
    "print(\"Extracted number:\", number)\n"
   ]
  },
  {
   "cell_type": "markdown",
   "id": "1619aa0e-bab6-480a-893d-c8a55520ebd2",
   "metadata": {},
   "source": [
    "## Question 9"
   ]
  },
  {
   "cell_type": "code",
   "execution_count": 22,
   "id": "b2652916-4e38-465d-8881-7533404c37bb",
   "metadata": {},
   "outputs": [
    {
     "name": "stdin",
     "output_type": "stream",
     "text": [
      "Enter your password:  D212wasl@\n"
     ]
    },
    {
     "name": "stdout",
     "output_type": "stream",
     "text": [
      "Password contains uppercase characters: True\n",
      "Password contains lowercase characters: True\n",
      "Password contains spaces: False\n",
      "Password contains special characters: True\n"
     ]
    }
   ],
   "source": [
    "# Function to check password characteristics\n",
    "def check_password(password):\n",
    "    # Check for uppercase characters\n",
    "    has_uppercase = any(char.isupper() for char in password)\n",
    "    # Check for lowercase characters\n",
    "    has_lowercase = any(char.islower() for char in password)\n",
    "    # Check for spaces\n",
    "    has_spaces = any(char.isspace() for char in password)\n",
    "    # Check for special characters\n",
    "    has_special = any(not char.isalnum() and not char.isspace() for char in password)\n",
    "\n",
    "    # Display results\n",
    "    print(\"Password contains uppercase characters:\", has_uppercase)\n",
    "    print(\"Password contains lowercase characters:\", has_lowercase)\n",
    "    print(\"Password contains spaces:\", has_spaces)\n",
    "    print(\"Password contains special characters:\", has_special)\n",
    "\n",
    "# Input: User password\n",
    "user_password = input(\"Enter your password: \")\n",
    "\n",
    "# Check password\n",
    "check_password(user_password)\n"
   ]
  },
  {
   "cell_type": "markdown",
   "id": "ada7d0da-2579-4745-9993-afa763d5bf5a",
   "metadata": {},
   "source": [
    "## Question 10"
   ]
  },
  {
   "cell_type": "code",
   "execution_count": 23,
   "id": "2b079034-9edc-4c0f-a785-1d1431a06c62",
   "metadata": {},
   "outputs": [
    {
     "name": "stdin",
     "output_type": "stream",
     "text": [
      "Enter a sentence:  I am enjoying studying python\n"
     ]
    },
    {
     "name": "stdout",
     "output_type": "stream",
     "text": [
      "Longest word: enjoying\n"
     ]
    }
   ],
   "source": [
    "# Function to find the longest word\n",
    "def find_longest_word(sentence):\n",
    "    # Split the sentence into words\n",
    "    words = sentence.split()\n",
    "    # Find the longest word\n",
    "    longest_word = max(words, key=len)\n",
    "    return longest_word\n",
    "\n",
    "# Input: Sentence from the user\n",
    "sentence = input(\"Enter a sentence: \")\n",
    "\n",
    "# Find and display the longest word\n",
    "longest_word = find_longest_word(sentence)\n",
    "print(\"Longest word:\", longest_word)\n"
   ]
  },
  {
   "cell_type": "code",
   "execution_count": null,
   "id": "a6000bbb-074e-4762-9a89-924d64f7ba6f",
   "metadata": {},
   "outputs": [],
   "source": []
  }
 ],
 "metadata": {
  "kernelspec": {
   "display_name": "Python 3 (ipykernel)",
   "language": "python",
   "name": "python3"
  },
  "language_info": {
   "codemirror_mode": {
    "name": "ipython",
    "version": 3
   },
   "file_extension": ".py",
   "mimetype": "text/x-python",
   "name": "python",
   "nbconvert_exporter": "python",
   "pygments_lexer": "ipython3",
   "version": "3.12.7"
  }
 },
 "nbformat": 4,
 "nbformat_minor": 5
}
